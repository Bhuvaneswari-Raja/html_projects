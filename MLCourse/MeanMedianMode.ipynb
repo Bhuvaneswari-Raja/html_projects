{
 "cells": [
  {
   "cell_type": "markdown",
   "metadata": {},
   "source": [
    "# Mean, Median, Mode, and introducing NumPy"
   ]
  },
  {
   "cell_type": "markdown",
   "metadata": {},
   "source": [
    "## Mean vs. Median"
   ]
  },
  {
   "cell_type": "markdown",
   "metadata": {},
   "source": [
    "Let's create some fake income data, centered around 27,000 with a normal distribution and standard deviation of 15,000, with 10,000 data points. (We'll discuss those terms more later, if you're not familiar with them.)\n",
    "\n",
    "Then, compute the mean (average) - it should be close to 27,000:"
   ]
  },
  {
   "cell_type": "code",
   "execution_count": 1,
   "metadata": {},
   "outputs": [
    {
     "data": {
      "text/plain": [
       "27007.655250523687"
      ]
     },
     "execution_count": 1,
     "metadata": {},
     "output_type": "execute_result"
    }
   ],
   "source": [
    "import numpy as np\n",
    "\n",
    "incomes = np.random.normal(27000, 15000, 10000)\n",
    "np.mean(incomes)"
   ]
  },
  {
   "cell_type": "markdown",
   "metadata": {},
   "source": [
    "We can segment the income data into 50 buckets, and plot it as a histogram:"
   ]
  },
  {
   "cell_type": "code",
   "execution_count": 2,
   "metadata": {},
   "outputs": [
    {
     "data": {
      "image/png": "[encoded data removed]",
      "text/plain": [
       "<Figure size 640x480 with 1 Axes>"
      ]
     },
     "metadata": {},
     "output_type": "display_data"
    }
   ],
   "source": [
    "%matplotlib inline\n",
    "import matplotlib.pyplot as plt\n",
    "plt.hist(incomes, 50)\n",
    "plt.show()"
   ]
  },
  {
   "cell_type": "markdown",
   "metadata": {},
   "source": [
    "Now compute the median - since we have a nice, even distribution it too should be close to 27,000:"
   ]
  },
  {
   "cell_type": "code",
   "execution_count": 3,
   "metadata": {},
   "outputs": [
    {
     "data": {
      "text/plain": [
       "27069.002512516363"
      ]
     },
     "execution_count": 3,
     "metadata": {},
     "output_type": "execute_result"
    }
   ],
   "source": [
    "np.median(incomes)"
   ]
  },
  {
   "cell_type": "markdown",
   "metadata": {},
   "source": [
    "Now we'll add Jeff Bezos into the mix. Darn income inequality!"
   ]
  },
  {
   "cell_type": "code",
   "execution_count": 4,
   "metadata": {},
   "outputs": [],
   "source": [
    "incomes = np.append(incomes, [1000000000])"
   ]
  },
  {
   "cell_type": "markdown",
   "metadata": {},
   "source": [
    "The median won't change much, but the mean does:"
   ]
  },
  {
   "cell_type": "code",
   "execution_count": 5,
   "metadata": {},
   "outputs": [
    {
     "data": {
      "text/plain": [
       "27070.02251994573"
      ]
     },
     "execution_count": 5,
     "metadata": {},
     "output_type": "execute_result"
    }
   ],
   "source": [
    "np.median(incomes)"
   ]
  },
  {
   "cell_type": "code",
   "execution_count": 6,
   "metadata": {},
   "outputs": [
    {
     "data": {
      "text/plain": [
       "126994.9557549482"
      ]
     },
     "execution_count": 6,
     "metadata": {},
     "output_type": "execute_result"
    }
   ],
   "source": [
    "np.mean(incomes)"
   ]
  },
  {
   "cell_type": "markdown",
   "metadata": {},
   "source": [
    "## Mode"
   ]
  },
  {
   "cell_type": "markdown",
   "metadata": {},
   "source": [
    "Next, let's generate some fake age data for 500 people:"
   ]
  },
  {
   "cell_type": "code",
   "execution_count": 7,
   "metadata": {},
   "outputs": [
    {
     "data": {
      "text/plain": [
       "array([76, 33, 46, 71, 26, 83, 51, 77, 56, 55, 22, 81, 75, 89, 63, 78, 67,\n",
       "       76, 53, 75, 67, 23, 40, 40, 69, 89, 41, 73, 49, 58, 74, 60, 33, 36,\n",
       "       24, 42, 59, 67, 83, 38, 48, 75, 25, 78, 79, 78, 27, 41, 41, 68, 44,\n",
       "       22, 36, 54, 25, 44, 36, 78, 23, 59, 75, 37, 21, 41, 22, 36, 65, 20,\n",
       "       65, 85, 80, 31, 25, 68, 71, 27, 57, 69, 44, 83, 78, 63, 50, 46, 85,\n",
       "       83, 23, 68, 47, 77, 52, 77, 68, 73, 20, 63, 73, 64, 48, 59, 49, 65,\n",
       "       82, 76, 50, 34, 64, 59, 79, 21, 19, 74, 35, 39, 64, 47, 44, 31, 72,\n",
       "       33, 89, 52, 27, 49, 39, 68, 57, 28, 78, 32, 25, 62, 64, 44, 76, 32,\n",
       "       62, 84, 41, 74, 53, 71, 59, 56, 35, 66, 74, 45, 29, 44, 51, 53, 55,\n",
       "       23, 81, 29, 88, 59, 53, 24, 71, 63, 81, 44, 31, 46, 88, 68, 45, 26,\n",
       "       79, 44, 87, 71, 82, 49, 59, 88, 40, 81, 63, 31, 66, 31, 58, 44, 19,\n",
       "       84, 46, 54, 48, 82, 67, 56, 63, 53, 79, 88, 38, 71, 18, 43, 34, 65,\n",
       "       41, 75, 75, 87, 32, 85, 19, 81, 80, 68, 21, 59, 89, 86, 27, 88, 22,\n",
       "       21, 74, 77, 59, 49, 51, 49, 66, 27, 53, 36, 51, 26, 24, 63, 43, 79,\n",
       "       77, 49, 60, 80, 73, 28, 70, 45, 43, 57, 30, 39, 85, 22, 56, 54, 74,\n",
       "       74, 18, 19, 86, 74, 54, 40, 18, 85, 22, 78, 82, 54, 68, 34, 65, 25,\n",
       "       44, 27, 86, 62, 48, 77, 72, 87, 80, 25, 21, 73, 29, 57, 82, 87, 85,\n",
       "       57, 20, 84, 34, 81, 27, 86, 77, 41, 89, 47, 39, 81, 27, 25, 32, 23,\n",
       "       74, 54, 76, 63, 30, 38, 55, 40, 19, 89, 31, 79, 61, 21, 69, 85, 35,\n",
       "       37, 33, 37, 75, 22, 41, 21, 43, 85, 38, 84, 30, 81, 24, 88, 55, 46,\n",
       "       56, 47, 66, 83, 23, 61, 59, 78, 83, 79, 84, 38, 44, 62, 41, 52, 35,\n",
       "       46, 32, 84, 77, 19, 73, 62, 55, 32, 57, 35, 47, 25, 20, 40, 83, 85,\n",
       "       39, 77, 55, 37, 71, 59, 89, 64, 86, 46, 24, 48, 82, 37, 89, 79, 61,\n",
       "       31, 60, 53, 63, 68, 70, 45, 59, 41, 46, 27, 50, 37, 76, 85, 55, 26,\n",
       "       79, 24, 55, 80, 33, 51, 43, 37, 67, 19, 80, 50, 35, 26, 71, 22, 89,\n",
       "       81, 47, 56, 69, 23, 60, 23, 72, 81, 77, 37, 18, 71, 20, 55, 80, 64,\n",
       "       38, 20, 25, 35, 67, 66, 71, 30, 75, 24, 87, 19, 49, 42, 69, 76, 44,\n",
       "       84, 88, 44, 33, 86, 88, 50, 19, 41, 65, 66, 70, 31, 38, 54, 31, 34,\n",
       "       35, 78, 71, 26, 51, 88, 51, 35, 89, 59, 64, 35, 83, 47, 83, 88, 53,\n",
       "       64, 67, 69, 57, 18, 35, 31])"
      ]
     },
     "execution_count": 7,
     "metadata": {},
     "output_type": "execute_result"
    }
   ],
   "source": [
    "ages = np.random.randint(18, high=90, size=500)\n",
    "ages"
   ]
  },
  {
   "cell_type": "code",
   "execution_count": 8,
   "metadata": {},
   "outputs": [
    {
     "name": "stderr",
     "output_type": "stream",
     "text": [
      "C:\\Users\\srmk2\\AppData\\Local\\Temp\\ipykernel_34632\\2994774060.py:2: FutureWarning: Unlike other reduction functions (e.g. `skew`, `kurtosis`), the default behavior of `mode` typically preserves the axis it acts along. In SciPy 1.11.0, this behavior will change: the default value of `keepdims` will become False, the `axis` over which the statistic is taken will be eliminated, and the value None will no longer be accepted. Set `keepdims` to True or False to avoid this warning.\n",
      "  stats.mode(ages)\n"
     ]
    },
    {
     "data": {
      "text/plain": [
       "ModeResult(mode=array([44]), count=array([13]))"
      ]
     },
     "execution_count": 8,
     "metadata": {},
     "output_type": "execute_result"
    }
   ],
   "source": [
    "from scipy import stats\n",
    "stats.mode(ages)"
   ]
  }
 ],
 "metadata": {
  "kernelspec": {
   "display_name": "Python 3 (ipykernel)",
   "language": "python",
   "name": "python3"
  },
  "language_info": {
   "codemirror_mode": {
    "name": "ipython",
    "version": 3
   },
   "file_extension": ".py",
   "mimetype": "text/x-python",
   "name": "python",
   "nbconvert_exporter": "python",
   "pygments_lexer": "ipython3",
   "version": "3.11.4"
  }
 },
 "nbformat": 4,
 "nbformat_minor": 1
}
